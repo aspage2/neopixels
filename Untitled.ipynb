{
 "cells": [
  {
   "cell_type": "code",
   "execution_count": 2,
   "id": "cbf7fa4e",
   "metadata": {},
   "outputs": [],
   "source": [
    "import matplotlib.pyplot as plt"
   ]
  },
  {
   "cell_type": "code",
   "execution_count": 17,
   "id": "e1e72b8a",
   "metadata": {},
   "outputs": [],
   "source": [
    "from PIL import Image\n",
    "import numpy as np"
   ]
  },
  {
   "cell_type": "code",
   "execution_count": 41,
   "id": "c56a47f8",
   "metadata": {},
   "outputs": [],
   "source": [
    "img = Image.open(\"images/off.png\").convert(\"L\")\n",
    "offarr = np.asarray(img, dtype=np.int32)"
   ]
  },
  {
   "cell_type": "code",
   "execution_count": 9,
   "id": "60c82969",
   "metadata": {},
   "outputs": [],
   "source": [
    "img0 = Image.open(\"images/image0.png\").convert(\"L\")"
   ]
  },
  {
   "cell_type": "code",
   "execution_count": 101,
   "id": "ae6be3c7",
   "metadata": {},
   "outputs": [],
   "source": [
    "def getimage(n):\n",
    "    fname = f\"images/image{n}.png\"\n",
    "    return Image.open(fname).convert(\"L\")\n",
    "\n",
    "def getconverted(n):\n",
    "    fname = f\"converted/image{n}.png\"\n",
    "    return Image.open(fname).convert(\"L\")\n",
    "\n",
    "def convert(img, offarr):\n",
    "    arr = np.asarray(img, dtype=np.int32) - offarr\n",
    "    \n",
    "    return Image.fromarray(arr.clip(0, 255).astype(np.uint8), mode='L')\n"
   ]
  },
  {
   "cell_type": "code",
   "execution_count": 54,
   "id": "94b70b93",
   "metadata": {},
   "outputs": [],
   "source": [
    "for i in range(100):\n",
    "    img = getimage(i)\n",
    "    convert(img, offarr).save(f\"converted/image{i}.png\")"
   ]
  },
  {
   "cell_type": "code",
   "execution_count": 102,
   "id": "6e8942ab",
   "metadata": {},
   "outputs": [],
   "source": [
    "def getcoord(img):\n",
    "    arr = np.asarray(img, dtype=np.int32)\n",
    "    r, c = arr.shape\n",
    "    rtot = 0\n",
    "    ctot = 0\n",
    "    tot = 0\n",
    "    # Take the natural exponential of arr to give more weight to brighter pixels.\n",
    "    arr2 = np.exp(arr)\n",
    "    for i in range(r):\n",
    "        for j in range(c):\n",
    "            v = arr2[i, j]\n",
    "            rtot += v * i\n",
    "            ctot += v * j\n",
    "            tot += v\n",
    "    nc = int(ctot / tot)\n",
    "    nr = int(rtot / tot)\n",
    "    return (nc, nr)"
   ]
  },
  {
   "cell_type": "code",
   "execution_count": 111,
   "id": "48db7be8",
   "metadata": {},
   "outputs": [],
   "source": [
    "%mkdir -p coords\n",
    "from PIL import ImageDraw\n",
    "\n",
    "coords = []\n",
    "for i in range(100):\n",
    "    img = getconverted(i)\n",
    "    (nc, nr) = getcoord(img)\n",
    "    coords.append((nr, nc))\n",
    "    draw = ImageDraw.Draw(img)\n",
    "    draw.ellipse([nc - 10, nr - 10, nc + 10, nr + 10], outline=255)\n",
    "    img.save(f\"coords/image{i}.png\")"
   ]
  },
  {
   "cell_type": "code",
   "execution_count": 119,
   "id": "509b6ee3",
   "metadata": {},
   "outputs": [
    {
     "name": "stdout",
     "output_type": "stream",
     "text": [
      "(451, 158)\n"
     ]
    }
   ],
   "source": [
    "def lerp(c1, c2, t):\n",
    "    return tuple(int((cp2 - cp1) * t) + cp1 for cp1, cp2 in zip(c1, c2))\n",
    "\n",
    "print(coords[28])\n",
    "coords[28] = lerp(coords[27], coords[29], 0.5)"
   ]
  },
  {
   "cell_type": "code",
   "execution_count": 120,
   "id": "20a4f953",
   "metadata": {},
   "outputs": [],
   "source": [
    "import csv\n",
    "with open(\"coords.csv\", 'w') as f:\n",
    "    wr = csv.writer(f)\n",
    "    wr.writerows(coords)\n"
   ]
  },
  {
   "cell_type": "code",
   "execution_count": 1,
   "id": "27a8ad9b",
   "metadata": {},
   "outputs": [],
   "source": [
    "import csv\n",
    "with open(\"coords.csv\", 'r') as f:\n",
    "    cs = [(int(i), int(j)) for i, j in csv.reader(f)]"
   ]
  },
  {
   "cell_type": "code",
   "execution_count": 2,
   "id": "79ac3e83",
   "metadata": {},
   "outputs": [
    {
     "data": {
      "text/plain": [
       "[(452, 192),\n",
       " (407, 196),\n",
       " (355, 195),\n",
       " (340, 179),\n",
       " (299, 209),\n",
       " (279, 180),\n",
       " (246, 181),\n",
       " (200, 206),\n",
       " (169, 191),\n",
       " (148, 216),\n",
       " (191, 213),\n",
       " (205, 225),\n",
       " (250, 209),\n",
       " (271, 229),\n",
       " (317, 231),\n",
       " (337, 224),\n",
       " (358, 230),\n",
       " (375, 236),\n",
       " (415, 267),\n",
       " (437, 245),\n",
       " (388, 270),\n",
       " (342, 251),\n",
       " (334, 249),\n",
       " (289, 264),\n",
       " (247, 254),\n",
       " (223, 275),\n",
       " (187, 251),\n",
       " (180, 271),\n",
       " (191, 273),\n",
       " (203, 275),\n",
       " (224, 262),\n",
       " (264, 292),\n",
       " (280, 300),\n",
       " (321, 278),\n",
       " (348, 287),\n",
       " (388, 305),\n",
       " (407, 326),\n",
       " (431, 315),\n",
       " (389, 318),\n",
       " (368, 331),\n",
       " (324, 310),\n",
       " (289, 317),\n",
       " (260, 318),\n",
       " (215, 338),\n",
       " (192, 345),\n",
       " (177, 327),\n",
       " (146, 326),\n",
       " (185, 324),\n",
       " (222, 325),\n",
       " (251, 330),\n",
       " (344, 343),\n",
       " (371, 346),\n",
       " (411, 365),\n",
       " (434, 358),\n",
       " (392, 363),\n",
       " (387, 386),\n",
       " (341, 373),\n",
       " (317, 369),\n",
       " (282, 394),\n",
       " (249, 399),\n",
       " (213, 385),\n",
       " (189, 379),\n",
       " (160, 388),\n",
       " (175, 391),\n",
       " (206, 402),\n",
       " (210, 402),\n",
       " (249, 420),\n",
       " (286, 406),\n",
       " (320, 404),\n",
       " (339, 427),\n",
       " (385, 409),\n",
       " (412, 421),\n",
       " (411, 451),\n",
       " (382, 426),\n",
       " (358, 434),\n",
       " (322, 450),\n",
       " (300, 454),\n",
       " (257, 465),\n",
       " (218, 467),\n",
       " (186, 468),\n",
       " (151, 472),\n",
       " (160, 448),\n",
       " (196, 463),\n",
       " (236, 471),\n",
       " (260, 468),\n",
       " (291, 466),\n",
       " (334, 477),\n",
       " (362, 481),\n",
       " (397, 487),\n",
       " (437, 512),\n",
       " (391, 525),\n",
       " (356, 513),\n",
       " (314, 519),\n",
       " (283, 508),\n",
       " (244, 504),\n",
       " (211, 512),\n",
       " (161, 505),\n",
       " (130, 513),\n",
       " (168, 491),\n",
       " (205, 506)]"
      ]
     },
     "execution_count": 2,
     "metadata": {},
     "output_type": "execute_result"
    }
   ],
   "source": [
    "cs"
   ]
  },
  {
   "cell_type": "code",
   "execution_count": 6,
   "id": "14caa9b4",
   "metadata": {},
   "outputs": [],
   "source": [
    "minrow = min(p[0] for p in cs)\n",
    "mincol = min(p[1] for p in cs)"
   ]
  },
  {
   "cell_type": "code",
   "execution_count": 7,
   "id": "357cc517",
   "metadata": {},
   "outputs": [],
   "source": [
    "cs2 = [(i - minrow, j - mincol) for i, j in cs]"
   ]
  },
  {
   "cell_type": "code",
   "execution_count": 10,
   "id": "a84d2c86",
   "metadata": {},
   "outputs": [],
   "source": [
    "with open(\"coords.csv\", 'w') as f:\n",
    "    csv.writer(f).writerows((int(i), int(j)) for i, j in cs2)"
   ]
  },
  {
   "cell_type": "code",
   "execution_count": null,
   "id": "d9aa1b32",
   "metadata": {},
   "outputs": [],
   "source": []
  }
 ],
 "metadata": {
  "kernelspec": {
   "display_name": "Python 3 (ipykernel)",
   "language": "python",
   "name": "python3"
  },
  "language_info": {
   "codemirror_mode": {
    "name": "ipython",
    "version": 3
   },
   "file_extension": ".py",
   "mimetype": "text/x-python",
   "name": "python",
   "nbconvert_exporter": "python",
   "pygments_lexer": "ipython3",
   "version": "3.9.2"
  }
 },
 "nbformat": 4,
 "nbformat_minor": 5
}
